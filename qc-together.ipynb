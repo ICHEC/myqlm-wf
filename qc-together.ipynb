{
 "cells": [
  {
   "cell_type": "code",
   "execution_count": 1,
   "metadata": {},
   "outputs": [
    {
     "name": "stderr",
     "output_type": "stream",
     "text": [
      "using legacy validation callback\n"
     ]
    },
    {
     "name": "stdout",
     "output_type": "stream",
     "text": [
      "Time in problem setup: 0.021488189697265625\n",
      "Submitted a new batch: QCJob5525\n",
      "Time quantum job: 11.076062202453613\n",
      "length of result object:  512\n",
      "[[0.86374635 0.8638017  0.86374635]\n",
      " [0.8638017  0.86386259 0.8638017 ]\n",
      " [0.86374635 0.8638017  0.86374635]]\n",
      "[  0   1   2   3   4   5   6   7   8   9  10  11  12  13  14  15  16  17\n",
      "  18  19  20  21  22  23  24  25  26  27  28  29  30  31  32  33  34  35\n",
      "  36  37  38  39  40  41  42  43  44  45  46  47  48  49  50  51  52  53\n",
      "  54  55  56  57  58  59  60  61  62  63  64  65  66  67  68  69  70  71\n",
      "  72  73  74  75  76  77  78  79  80  81  82  83  84  85  86  87  88  89\n",
      "  90  91  92  93  94  95  96  97  98  99 100 101 102 103 104 105 106 107\n",
      " 108 109 110 111 112 113 114 115 116 117 118 119 120 121 122 123 124 125\n",
      " 126 127 128 129 130 131 132 133 134 135 136 137 138 139 140 141 142 143\n",
      " 144 145 146 147 148 149 150 151 152 153 154 155 156 157 158 159 160 161\n",
      " 162 163 164 165 166 167 168 169 170 171 172 173 174 175 176 177 178 179\n",
      " 180 181 182 183 184 185 186 187 188 189 190 191 192 193 194 195 196 197\n",
      " 198 199 200 201 202 203 204 205 206 207 208 209 210 211 212 213 214 215\n",
      " 216 217 218 219 220 221 222 223 224 225 226 227 228 229 230 231 232 233\n",
      " 234 235 236 237 238 239 240 241 242 243 244 245 246 247 248 249 250 251\n",
      " 252 253 254 255 256 257 258 259 260 261 262 263 264 265 266 267 268 269\n",
      " 270 271 272 273 274 275 276 277 278 279 280 281 282 283 284 285 286 287\n",
      " 288 289 290 291 292 293 294 295 296 297 298 299 300 301 302 303 304 305\n",
      " 306 307 308 309 310 311 312 313 314 315 316 317 318 319 320 321 322 323\n",
      " 324 325 326 327 328 329 330 331 332 333 334 335 336 337 338 339 340 341\n",
      " 342 343 344 345 346 347 348 349 350 351 352 353 354 355 356 357 358 359\n",
      " 360 361 362 363 364 365 366 367 368 369 370 371 372 373 374 375 376 377\n",
      " 378 379 380 381 382 383 384 385 386 387 388 389 390 391 392 393 394 395\n",
      " 396 397 398 399 400 401 402 403 404 405 406 407 408 409 410 411 412 413\n",
      " 414 415 416 417 418 419 420 421 422 423 424 425 426 427 428 429 430 431\n",
      " 432 433 434 435 436 437 438 439 440 441 442 443 444 445 446 447 448 449\n",
      " 450 451 452 453 454 455 456 457 458 459 460 461 462 463 464 465 466 467\n",
      " 468 469 470 471 472 473 474 475 476 477 478 479 480 481 482 483 484 485\n",
      " 486 487 488 489 490 491 492 493 494 495 496 497 498 499 500 501 502 503\n",
      " 504 505 506 507 508 509 510 511]\n",
      "512 512 512\n",
      "Time processing vecs : 0.00892782211303711\n"
     ]
    }
   ],
   "source": [
    "import numpy as np\n",
    "import qat\n",
    "from qat.core import Schedule\n",
    "#from qat.qpus import AnalogQPU\n",
    "from qlmaas.qpus import AnalogQPU\n",
    "\n",
    "from time import time\n",
    "import pickle\n",
    "\n",
    "from qat.core.variables import Variable, heaviside\n",
    "\n",
    "def create_waveform(times, values):\n",
    "    \"\"\"\n",
    "    A Funnction allowing us to concatenate many lines, limited by heavisides,\n",
    "    thus creating a continuous, kinked line.\n",
    "    \"\"\"\n",
    "    assert len(times) == len(values)\n",
    "    # Store the final line as an ArithExpression\n",
    "    arith_expr = 0\n",
    "    t_var = Variable(\"t\")\n",
    "    # A line between each two points\n",
    "    for entry_i in range(1, len(times)):\n",
    "        # Create ax + b by calculating the slope and the offset\n",
    "        a = (values[entry_i] - values[entry_i - 1]) / (times[entry_i] - times[entry_i - 1])\n",
    "        b = ((values[entry_i] + values[entry_i - 1]) - a * (times[entry_i] + times[entry_i - 1])) / 2\n",
    "        respective_line = a * t_var + b\n",
    "        arith_expr += heaviside(t_var, times[entry_i - 1], times[entry_i]) * respective_line\n",
    "    return arith_expr\n",
    "#\n",
    "\n",
    "def occ_correlation(result, shape=None):\n",
    "    \"\"\"\n",
    "    extract probability from result\n",
    "    and compute spatial correlation\n",
    "    \"\"\"\n",
    "    nqbits = result[0].qregs[0].length\n",
    "    arr = np.zeros(nqbits)\n",
    "    for sample in result:\n",
    "        s = sample.state.bitstring\n",
    "        prob = sample.probability\n",
    "        n = np.array(list(s), dtype=int)\n",
    "        arr += (1-2 * n) * prob\n",
    "    if shape is not None:\n",
    "        arr = arr.reshape(shape)\n",
    "    return arr\n",
    "\n",
    "def occ_op(nqbits, qi):\n",
    "    ti = qat.core.Term(1.0, 'Z', [qi])\n",
    "    return (1 + qat.core.Observable(nqbits, pauli_terms=[ti])) / 2\n",
    "#\n",
    "\n",
    "def setup_hamiltonian(L1, L2, R0, T_max, omega_max, Omega, delta, C6):\n",
    "    nqbits = L1 * L2\n",
    "    Ri = R0 * np.array(list(np.ndindex(L1, L2)))\n",
    "    rij = np.array([np.linalg.norm(xi - xj)\n",
    "                     for xi in Ri for xj in Ri]\n",
    "                     ).reshape(nqbits, nqbits)\n",
    "    np.fill_diagonal(rij, 1.0) # Avoid division by zero\n",
    "    rij_inv = 1 / rij # Inverse of the distance matrix\n",
    "    np.fill_diagonal(rij_inv, 0.0) # fill diagonal with zeros so it doens't contribute to the sum\n",
    "    U = omega_max / 2\n",
    "    omega_values = [0.0, omega_max , omega_max , 0]\n",
    "    times = [0.0, 0.25, 0.5, T_max]\n",
    "    omega_waveform = create_waveform(times, omega_values)\n",
    "    # The waveform of the detuning Delta - for the 'n' terms\n",
    "    delta_start = -6 * U\n",
    "    delta_end = 2 * U # R_blockade is taken as 7.5\n",
    "    delta_values = [delta_start, delta_start, delta_end, delta_end]\n",
    "    delta_waveform = create_waveform(times, delta_values)\n",
    "    #\n",
    "    H1_terms = [qat.core.Term(1.0, \"X\", [i]) for i in range(nqbits)]\n",
    "    H1 = qat.core.Observable(nqbits, pauli_terms=H1_terms)\n",
    "    H2_terms = [qat.core.Term(-1.0, \"Z\", [i]) for i in range(nqbits)]\n",
    "    H2 = qat.core.Observable(nqbits, pauli_terms=H2_terms)\n",
    "\n",
    "    H3 = 0\n",
    "    for i in range(nqbits):\n",
    "        for j in range(i + 1, nqbits):\n",
    "            H3 += (C6 * rij_inv[i, j]**6) * occ_op(nqbits, i) * occ_op(nqbits, j)\n",
    "\n",
    "    schedule = Schedule(drive=[\n",
    "        (omega_waveform / 2, H1),\n",
    "        (delta_waveform, H2),\n",
    "        (1, H3),], tmax=T_max)\n",
    "    # schedule.display()\n",
    "    return schedule\n",
    "\n",
    "\n",
    "\n",
    "# testing timescales.\n",
    "t1 = time()\n",
    "\n",
    "L1, L2 = 3, 3\n",
    "nqbits = L1 * L2\n",
    "hsize = 2**nqbits\n",
    "R0 = 6.0\n",
    "# qsqr = qse.utils.squarelattice(6.0, L1, L2)\n",
    "\n",
    "params = {\n",
    "    'L1': L1,                # Number of qubits in the first dimension\n",
    "    'L2': L2,                # Number of qubits in the second dimension\n",
    "    'R0': 6.0,               # Lattice spacing\n",
    "    'T_max': 0.6,            # The waveform of Omega - for the sigma_x terms\n",
    "    'omega_max': 1.73144604, # from pulser_myqlm rad/µs\n",
    "    'Omega': 1.2,            # Amplitude\n",
    "    'delta': 2.0,            # detuning\n",
    "    'C6': 1.5                # interaction scale\n",
    "}\n",
    "\n",
    "params['R0'] = 3.0\n",
    "\n",
    "schedule = setup_hamiltonian(**params)\n",
    "job = schedule.to_job()\n",
    "\n",
    "t2 = time()\n",
    "print(f\"Time in problem setup: {t2 - t1}\")\n",
    "\n",
    "t1 = time()\n",
    "\n",
    "my_qpu = AnalogQPU()\n",
    "async_result = my_qpu.submit(job)\n",
    "result = async_result.join()\n",
    "\n",
    "t2 = time()\n",
    "print(f\"Time quantum job: {t2 - t1}\")\n",
    "\n",
    "# res = someClassicalfunc(result)\n",
    "\n",
    "#for s in result:\n",
    "#    print(f\"state={s.state}, probability={s.probability}\")\n",
    "t1 = time()\n",
    "print('length of result object: ', len(result))\n",
    "\n",
    "probs = np.fromiter((sample.probability for sample in result), dtype=float)\n",
    "coeff = np.fromiter((sample.amplitude for sample in result), dtype=complex)\n",
    "basis = np.fromiter((sample.state.int for sample in result), dtype=int)\n",
    "\n",
    "\n",
    "#if coeff.shape[0] < hsize:\n",
    "#    coeff0 = np.zeros(2**nqbits, dtype=complex)\n",
    "#    coeff0[basis] = coeff\n",
    "#    coeff = coeff0\n",
    "\n",
    "arr = occ_correlation(result, shape=(L1, L2))\n",
    "print(arr)\n",
    "print(basis)\n",
    "print(len(probs), len(coeff), len(basis))\n",
    "\n",
    "t2 = time()\n",
    "pickle.dump((L1, L2, coeff), open('quantum-data.pkl', 'wb'))\n",
    "print(f\"Time processing vecs : {t2 - t1}\")\n"
   ]
  },
  {
   "cell_type": "code",
   "execution_count": 2,
   "metadata": {},
   "outputs": [
    {
     "data": {
      "text/plain": [
       "[<matplotlib.lines.Line2D at 0x148b3b3e0>]"
      ]
     },
     "execution_count": 2,
     "metadata": {},
     "output_type": "execute_result"
    },
    {
     "data": {
      "image/png": "[encoded data removed]",
      "text/plain": [
       "<Figure size 640x480 with 1 Axes>"
      ]
     },
     "metadata": {},
     "output_type": "display_data"
    }
   ],
   "source": [
    "presence = np.zeros(2**nqbits, dtype=bool)\n",
    "presence[basis] = True\n",
    "plt.plot(presence)"
   ]
  },
  {
   "cell_type": "code",
   "execution_count": 3,
   "metadata": {},
   "outputs": [],
   "source": [
    "result.dump('tmp.res')"
   ]
  },
  {
   "cell_type": "code",
   "execution_count": 4,
   "metadata": {},
   "outputs": [],
   "source": [
    "aa = qat.core.Result.load('tmp.res')"
   ]
  },
  {
   "cell_type": "code",
   "execution_count": 5,
   "metadata": {},
   "outputs": [
    {
     "data": {
      "text/plain": [
       "[<matplotlib.lines.Line2D at 0x148bed5b0>]"
      ]
     },
     "execution_count": 5,
     "metadata": {},
     "output_type": "execute_result"
    },
    {
     "data": {
      "image/png": "[encoded data removed]",
      "text/plain": [
       "<Figure size 640x480 with 1 Axes>"
      ]
     },
     "metadata": {},
     "output_type": "display_data"
    }
   ],
   "source": [
    "basis0 = np.arange(2**nqbits)\n",
    "diff = np.array([i-j for i, j in zip(basis, basis0)])\n",
    "import matplotlib.pyplot as plt\n",
    "plt.plot(diff)"
   ]
  },
  {
   "cell_type": "code",
   "execution_count": 6,
   "metadata": {},
   "outputs": [
    {
     "name": "stdout",
     "output_type": "stream",
     "text": [
      "Read L1, L2 = (3, 3)\n",
      "Time in s_i compute = 0.1094961166381836\n",
      "Time in s_ij compute = 0.4579300880432129\n",
      "Time in s_f compute = 0.00028705596923828125\n"
     ]
    }
   ],
   "source": [
    "import numpy as np\n",
    "from time import time\n",
    "import pickle\n",
    "import struc_fac as sf\n",
    "\n",
    "L1, L2, statevector = pickle.load(open('quantum-data.pkl', 'rb'))\n",
    "N = L1 * L2\n",
    "hsize = 2**N\n",
    "ibasis = sf.get_basis(hsize=hsize, N=N)\n",
    "print(f'Read L1, L2 = ({L1}, {L2})')\n",
    "\n",
    "t1 = time()\n",
    "s_i = sf.get_spins(statevector, ibasis, N)\n",
    "t2 = time()\n",
    "\n",
    "print(f\"Time in s_i compute = {t2 - t1}\")\n",
    "np.savetxt('final-si.dat', s_i)\n",
    "\n",
    "t1 = time()\n",
    "s_ij = sf.get_sisj(statevector, ibasis, N)\n",
    "t2 = time()\n",
    "\n",
    "pickle.dump(s_ij, open('classical-data.pkl', 'wb'))\n",
    "print(f\"Time in s_ij compute = {t2 - t1}\")\n",
    "\n",
    "\n",
    "t1 = time()\n",
    "s_f = sf.struc_fac_from_sij(L1, L2, s_ij)\n",
    "t2 = time()\n",
    "print(f\"Time in s_f compute = {t2 - t1}\")\n"
   ]
  },
  {
   "cell_type": "code",
   "execution_count": null,
   "metadata": {},
   "outputs": [
    {
     "data": {
      "text/plain": [
       "'\\nprint(f\\'Read L1, L2 = ({L1}, {L2})\\')\\n\\nt1 = time()\\ns_i = sf.get_spins(statevector, ibasis, N)\\nt2 = time()\\n\\nprint(f\"Time in s_i compute = {t2 - t1}\")\\nnp.savetxt(\\'final-si.dat\\', s_i)\\n\\nt1 = time()\\ns_ij = sf.get_sisj(statevector, ibasis, N)\\nt2 = time()\\n\\npickle.dump(s_ij, open(\\'classical-data.pkl\\', \\'wb\\'))\\nprint(f\"Time in s_ij compute = {t2 - t1}\")\\n'"
      ]
     },
     "execution_count": 3,
     "metadata": {},
     "output_type": "execute_result"
    }
   ],
   "source": [
    "import numpy as np\n",
    "from time import time\n",
    "import pickle\n",
    "import struc_fac as sf\n",
    "\n",
    "L1, L2 = 3, 3\n",
    "L1, L2, statevector = pickle.load(open('quantum-data-4x4.pkl', 'rb'))\n",
    "N = L1 * L2\n",
    "hsize = 2**N\n",
    "ibasis = sf.get_basis(hsize=hsize, N=N)\n",
    "\n",
    "\"\"\"\n",
    "print(f'Read L1, L2 = ({L1}, {L2})')\n",
    "\n",
    "t1 = time()\n",
    "s_i = sf.get_spins(statevector, ibasis, N)\n",
    "t2 = time()\n",
    "\n",
    "print(f\"Time in s_i compute = {t2 - t1}\")\n",
    "np.savetxt('final-si.dat', s_i)\n",
    "\n",
    "t1 = time()\n",
    "s_ij = sf.get_sisj(statevector, ibasis, N)\n",
    "t2 = time()\n",
    "\n",
    "pickle.dump(s_ij, open('classical-data.pkl', 'wb'))\n",
    "print(f\"Time in s_ij compute = {t2 - t1}\")\n",
    "\"\"\""
   ]
  },
  {
   "cell_type": "code",
   "execution_count": 5,
   "metadata": {},
   "outputs": [
    {
     "data": {
      "text/plain": [
       "((63019,), 65536)"
      ]
     },
     "execution_count": 5,
     "metadata": {},
     "output_type": "execute_result"
    }
   ],
   "source": [
    "statevector.shape, hsize"
   ]
  },
  {
   "cell_type": "code",
   "execution_count": 17,
   "metadata": {},
   "outputs": [
    {
     "data": {
      "text/plain": [
       "(9, 9)"
      ]
     },
     "execution_count": 17,
     "metadata": {},
     "output_type": "execute_result"
    }
   ],
   "source": [
    "L = 3\n",
    "s_ij.shape"
   ]
  },
  {
   "cell_type": "code",
   "execution_count": null,
   "metadata": {},
   "outputs": [],
   "source": [
    "\n"
   ]
  },
  {
   "cell_type": "code",
   "execution_count": 23,
   "metadata": {},
   "outputs": [],
   "source": [
    "s_f = struc_fac_from_sij(3, 3, s_ij)"
   ]
  },
  {
   "cell_type": "code",
   "execution_count": 24,
   "metadata": {},
   "outputs": [
    {
     "data": {
      "text/plain": [
       "array([[0.02042698, 0.02042698, 0.02042698],\n",
       "       [0.02042698, 0.02042698, 0.02042698],\n",
       "       [0.02042698, 0.02042698, 0.02042698]])"
      ]
     },
     "execution_count": 24,
     "metadata": {},
     "output_type": "execute_result"
    }
   ],
   "source": [
    "s_f"
   ]
  },
  {
   "cell_type": "code",
   "execution_count": null,
   "metadata": {},
   "outputs": [],
   "source": []
  }
 ],
 "metadata": {
  "kernelspec": {
   "display_name": "Python 3",
   "language": "python",
   "name": "python3"
  },
  "language_info": {
   "codemirror_mode": {
    "name": "ipython",
    "version": 3
   },
   "file_extension": ".py",
   "mimetype": "text/x-python",
   "name": "python",
   "nbconvert_exporter": "python",
   "pygments_lexer": "ipython3",
   "version": "3.12.5"
  }
 },
 "nbformat": 4,
 "nbformat_minor": 2
}
