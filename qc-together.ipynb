{
 "cells": [
  {
   "cell_type": "code",
   "execution_count": 26,
   "metadata": {},
   "outputs": [
    {
     "name": "stdout",
     "output_type": "stream",
     "text": [
      "Time in problem setup: 0.06911993026733398\n",
      "Submitted a new batch: QCJob3562\n",
      "Time quantum job: 10.615449905395508\n",
      "length of result object:  4095\n",
      "[[0.86361444 0.86361533 0.86361533 0.86361444]\n",
      " [0.86361531 0.86361628 0.86361628 0.86361531]\n",
      " [0.86361444 0.86361533 0.86361533 0.86361444]]\n",
      "[   0    1    2 ... 4092 4093 4094]\n",
      "4095 4096 4095\n",
      "Time processing vecs : 0.0332951545715332\n"
     ]
    }
   ],
   "source": [
    "import numpy as np\n",
    "import qat\n",
    "from qat.core import Schedule\n",
    "#from qat.qpus import AnalogQPU\n",
    "from qlmaas.qpus import AnalogQPU\n",
    "\n",
    "from time import time\n",
    "import pickle\n",
    "\n",
    "from qat.core.variables import Variable, heaviside\n",
    "\n",
    "def create_waveform(times, values):\n",
    "    \"\"\"\n",
    "    A Funnction allowing us to concatenate many lines, limited by heavisides,\n",
    "    thus creating a continuous, kinked line.\n",
    "    \"\"\"\n",
    "    assert len(times) == len(values)\n",
    "    # Store the final line as an ArithExpression\n",
    "    arith_expr = 0\n",
    "    t_var = Variable(\"t\")\n",
    "    # A line between each two points\n",
    "    for entry_i in range(1, len(times)):\n",
    "        # Create ax + b by calculating the slope and the offset\n",
    "        a = (values[entry_i] - values[entry_i - 1]) / (times[entry_i] - times[entry_i - 1])\n",
    "        b = ((values[entry_i] + values[entry_i - 1]) - a * (times[entry_i] + times[entry_i - 1])) / 2\n",
    "        respective_line = a * t_var + b\n",
    "        arith_expr += heaviside(t_var, times[entry_i - 1], times[entry_i]) * respective_line\n",
    "    return arith_expr\n",
    "#\n",
    "\n",
    "def occ_correlation(result, shape=None):\n",
    "    \"\"\"\n",
    "    extract probability from result\n",
    "    and compute spatial correlation\n",
    "    \"\"\"\n",
    "    nqbits = result[0].qregs[0].length\n",
    "    arr = np.zeros(nqbits)\n",
    "    for sample in result:\n",
    "        s = sample.state.bitstring\n",
    "        prob = sample.probability\n",
    "        n = np.array(list(s), dtype=int)\n",
    "        arr += (1-2 * n) * prob\n",
    "    if shape is not None:\n",
    "        arr = arr.reshape(shape)\n",
    "    return arr\n",
    "\n",
    "def occ_op(nqbits, qi):\n",
    "    ti = qat.core.Term(1.0, 'Z', [qi])\n",
    "    return (1 + qat.core.Observable(nqbits, pauli_terms=[ti])) / 2\n",
    "#\n",
    "\n",
    "def setup_hamiltonian(L1, L2, R0, T_max, omega_max, Omega, delta, C6):\n",
    "    nqbits = L1 * L2\n",
    "    Ri = R0 * np.array(list(np.ndindex(L1, L2)))\n",
    "    rij = np.array([np.linalg.norm(xi - xj)\n",
    "                     for xi in Ri for xj in Ri]\n",
    "                     ).reshape(nqbits, nqbits)\n",
    "    np.fill_diagonal(rij, 1.0) # Avoid division by zero\n",
    "    rij_inv = 1 / rij # Inverse of the distance matrix\n",
    "    np.fill_diagonal(rij_inv, 0.0) # fill diagonal with zeros so it doens't contribute to the sum\n",
    "    U = omega_max / 2\n",
    "    omega_values = [0.0, omega_max , omega_max , 0]\n",
    "    times = [0.0, 0.25, 0.5, T_max]\n",
    "    omega_waveform = create_waveform(times, omega_values)\n",
    "    # The waveform of the detuning Delta - for the 'n' terms\n",
    "    delta_start = -6 * U\n",
    "    delta_end = 2 * U # R_blockade is taken as 7.5\n",
    "    delta_values = [delta_start, delta_start, delta_end, delta_end]\n",
    "    delta_waveform = create_waveform(times, delta_values)\n",
    "    #\n",
    "    H1_terms = [qat.core.Term(1.0, \"X\", [i]) for i in range(nqbits)]\n",
    "    H1 = qat.core.Observable(nqbits, pauli_terms=H1_terms)\n",
    "    H2_terms = [qat.core.Term(-1.0, \"Z\", [i]) for i in range(nqbits)]\n",
    "    H2 = qat.core.Observable(nqbits, pauli_terms=H2_terms)\n",
    "\n",
    "    H3 = 0\n",
    "    for i in range(nqbits):\n",
    "        for j in range(i + 1, nqbits):\n",
    "            H3 += (C6 * rij_inv[i, j]**6) * occ_op(nqbits, i) * occ_op(nqbits, j)\n",
    "\n",
    "    schedule = Schedule(drive=[\n",
    "        (omega_waveform / 2, H1),\n",
    "        (delta_waveform, H2),\n",
    "        (1, H3),], tmax=T_max)\n",
    "    # schedule.display()\n",
    "    return schedule\n",
    "\n",
    "\n",
    "\n",
    "# testing timescales.\n",
    "t1 = time()\n",
    "\n",
    "L1, L2 = 3, 4\n",
    "nqbits = L1 * L2\n",
    "hsize = 2**nqbits\n",
    "R0 = 6.0\n",
    "# qsqr = qse.utils.squarelattice(6.0, L1, L2)\n",
    "\n",
    "params = {\n",
    "    'L1': L1,                # Number of qubits in the first dimension\n",
    "    'L2': L2,                # Number of qubits in the second dimension\n",
    "    'R0': 6.0,               # Lattice spacing\n",
    "    'T_max': 0.6,            # The waveform of Omega - for the sigma_x terms\n",
    "    'omega_max': 1.73144604, # from pulser_myqlm rad/µs\n",
    "    'Omega': 1.2,            # Amplitude\n",
    "    'delta': 2.0,            # detuning\n",
    "    'C6': 1.5                # interaction scale\n",
    "}\n",
    "\n",
    "schedule = setup_hamiltonian(**params)\n",
    "job = schedule.to_job()\n",
    "\n",
    "t2 = time()\n",
    "print(f\"Time in problem setup: {t2 - t1}\")\n",
    "\n",
    "t1 = time()\n",
    "\n",
    "my_qpu = AnalogQPU()\n",
    "async_result = my_qpu.submit(job)\n",
    "result = async_result.join()\n",
    "\n",
    "t2 = time()\n",
    "print(f\"Time quantum job: {t2 - t1}\")\n",
    "\n",
    "# res = someClassicalfunc(result)\n",
    "\n",
    "#for s in result:\n",
    "#    print(f\"state={s.state}, probability={s.probability}\")\n",
    "t1 = time()\n",
    "print('length of result object: ', len(result))\n",
    "\n",
    "probs = np.fromiter((sample.probability for sample in result), dtype=float)\n",
    "coeff = np.fromiter((sample.amplitude for sample in result), dtype=complex)\n",
    "basis = np.fromiter((sample.state.int for sample in result), dtype=int)\n",
    "\n",
    "if coeff.shape[0] < hsize:\n",
    "    coeff0 = np.zeros(2**nqbits, dtype=complex)\n",
    "    coeff0[basis] = coeff\n",
    "    coeff = coeff0\n",
    "\n",
    "arr = occ_correlation(result, shape=(L1, L2))\n",
    "print(arr)\n",
    "print(basis)\n",
    "print(len(probs), len(coeff), len(basis))\n",
    "\n",
    "t2 = time()\n",
    "pickle.dump((L1, L2, coeff), open('quantum-data.pkl', 'wb'))\n",
    "print(f\"Time processing vecs : {t2 - t1}\")\n"
   ]
  },
  {
   "cell_type": "code",
   "execution_count": 14,
   "metadata": {},
   "outputs": [],
   "source": [
    "basis0 = np.arange(2**nqbits)\n",
    "coeff0 = np.zeros(2**nqbits, dtype=complex)\n",
    "coeff0[basis] = coeff"
   ]
  },
  {
   "cell_type": "code",
   "execution_count": 18,
   "metadata": {},
   "outputs": [],
   "source": [
    "result.dump('tmp.res')"
   ]
  },
  {
   "cell_type": "code",
   "execution_count": 19,
   "metadata": {},
   "outputs": [],
   "source": [
    "aa = qat.core.Result.load('tmp.res')"
   ]
  },
  {
   "cell_type": "code",
   "execution_count": 9,
   "metadata": {},
   "outputs": [
    {
     "data": {
      "text/plain": [
       "[<matplotlib.lines.Line2D at 0x17fa69b50>]"
      ]
     },
     "execution_count": 9,
     "metadata": {},
     "output_type": "execute_result"
    },
    {
     "data": {
      "image/png": "[encoded data removed]",
      "text/plain": [
       "<Figure size 640x480 with 1 Axes>"
      ]
     },
     "metadata": {},
     "output_type": "display_data"
    }
   ],
   "source": [
    "basis0 = np.arange(2**nqbits)\n",
    "diff = np.array([i-j for i, j in zip(basis, basis0)])\n",
    "import matplotlib.pyplot as plt\n",
    "plt.plot(diff)"
   ]
  },
  {
   "cell_type": "code",
   "execution_count": 27,
   "metadata": {},
   "outputs": [
    {
     "name": "stdout",
     "output_type": "stream",
     "text": [
      "Read L1, L2 = (3, 4)\n",
      "Time in s_i compute = 5.583789110183716\n",
      "Time in s_ij compute = 33.33113098144531\n"
     ]
    }
   ],
   "source": [
    "import numpy as np\n",
    "from time import time\n",
    "import pickle\n",
    "import struc_fac as sf\n",
    "\n",
    "L1, L2, statevector = pickle.load(open('quantum-data.pkl', 'rb'))\n",
    "N = L1 * L2\n",
    "hsize = 2**N\n",
    "ibasis = sf.get_basis(hsize=hsize, N=N)\n",
    "print(f'Read L1, L2 = ({L1}, {L2})')\n",
    "\n",
    "t1 = time()\n",
    "s_i = sf.get_spins(statevector, ibasis, N)\n",
    "t2 = time()\n",
    "\n",
    "print(f\"Time in s_i compute = {t2 - t1}\")\n",
    "np.savetxt('final-si.dat', s_i)\n",
    "\n",
    "t1 = time()\n",
    "s_ij = sf.get_sisj(statevector, ibasis, N)\n",
    "t2 = time()\n",
    "\n",
    "pickle.dump(s_ij, open('classical-data.pkl', 'wb'))\n",
    "print(f\"Time in s_ij compute = {t2 - t1}\")"
   ]
  },
  {
   "cell_type": "code",
   "execution_count": 3,
   "metadata": {},
   "outputs": [
    {
     "data": {
      "text/plain": [
       "'\\nprint(f\\'Read L1, L2 = ({L1}, {L2})\\')\\n\\nt1 = time()\\ns_i = sf.get_spins(statevector, ibasis, N)\\nt2 = time()\\n\\nprint(f\"Time in s_i compute = {t2 - t1}\")\\nnp.savetxt(\\'final-si.dat\\', s_i)\\n\\nt1 = time()\\ns_ij = sf.get_sisj(statevector, ibasis, N)\\nt2 = time()\\n\\npickle.dump(s_ij, open(\\'classical-data.pkl\\', \\'wb\\'))\\nprint(f\"Time in s_ij compute = {t2 - t1}\")\\n'"
      ]
     },
     "execution_count": 3,
     "metadata": {},
     "output_type": "execute_result"
    }
   ],
   "source": [
    "import numpy as np\n",
    "from time import time\n",
    "import pickle\n",
    "import struc_fac as sf\n",
    "\n",
    "L1, L2 = 4, 4\n",
    "L1, L2, statevector = pickle.load(open('quantum-data-4x4.pkl', 'rb'))\n",
    "N = L1 * L2\n",
    "hsize = 2**N\n",
    "ibasis = sf.get_basis(hsize=hsize, N=N)\n",
    "\n",
    "\"\"\"\n",
    "print(f'Read L1, L2 = ({L1}, {L2})')\n",
    "\n",
    "t1 = time()\n",
    "s_i = sf.get_spins(statevector, ibasis, N)\n",
    "t2 = time()\n",
    "\n",
    "print(f\"Time in s_i compute = {t2 - t1}\")\n",
    "np.savetxt('final-si.dat', s_i)\n",
    "\n",
    "t1 = time()\n",
    "s_ij = sf.get_sisj(statevector, ibasis, N)\n",
    "t2 = time()\n",
    "\n",
    "pickle.dump(s_ij, open('classical-data.pkl', 'wb'))\n",
    "print(f\"Time in s_ij compute = {t2 - t1}\")\n",
    "\"\"\""
   ]
  },
  {
   "cell_type": "code",
   "execution_count": 5,
   "metadata": {},
   "outputs": [
    {
     "data": {
      "text/plain": [
       "((63019,), 65536)"
      ]
     },
     "execution_count": 5,
     "metadata": {},
     "output_type": "execute_result"
    }
   ],
   "source": [
    "statevector.shape, hsize"
   ]
  },
  {
   "cell_type": "code",
   "execution_count": null,
   "metadata": {},
   "outputs": [],
   "source": []
  }
 ],
 "metadata": {
  "kernelspec": {
   "display_name": "Python 3",
   "language": "python",
   "name": "python3"
  },
  "language_info": {
   "codemirror_mode": {
    "name": "ipython",
    "version": 3
   },
   "file_extension": ".py",
   "mimetype": "text/x-python",
   "name": "python",
   "nbconvert_exporter": "python",
   "pygments_lexer": "ipython3",
   "version": "3.12.5"
  }
 },
 "nbformat": 4,
 "nbformat_minor": 2
}
